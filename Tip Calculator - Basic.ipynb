{
 "cells": [
  {
   "cell_type": "code",
   "execution_count": 3,
   "id": "52a31a69",
   "metadata": {},
   "outputs": [
    {
     "name": "stdout",
     "output_type": "stream",
     "text": [
      "Tip Calculator\n",
      "What was the total bill? 150\n",
      "What percent of the bill would you like to tip? 12\n",
      "How many people will split the bill? 5\n",
      "\n",
      "The total bill with the added 0.12 tip is $168.0.\n",
      "Based on 5 splitting the bill, each person will pay $33.60.\n",
      "[33.6, 33.6, 33.6, 33.6, 33.6]\n"
     ]
    }
   ],
   "source": [
    "print(\"Tip Calculator\")\n",
    "totalBill = int(input(\"What was the total bill? \"))\n",
    "tipAmount = int(input(\"What percent of the bill would you like to tip? \"))\n",
    "countOfTippers = int(input(\"How many people will split the bill? \"))\n",
    "\n",
    "\n",
    "tipPercentage = tipAmount / 100\n",
    "totalWithTip = totalBill + (totalBill * tipPercentage)\n",
    "\n",
    "dictLastKey = countOfTippers\n",
    "totalPerTipper = totalWithTip / countOfTippers\n",
    "percentPerTipper  = int(int(100 / (totalWithTip/totalPerTipper)))/100\n",
    "\n",
    "\n",
    "print(\"\\nThe total bill with the added \" + str(tipPercentage) + \" tip is $\" + str(totalWithTip) + \".\")\n",
    "print(\"Based on \" + str(countOfTippers) + f\" splitting the bill, each person will pay ${totalPerTipper:.2f}\" + \".\")\n",
    "\n",
    "totalPerTipper = totalWithTip / countOfTippers\n",
    "\n",
    "\n",
    "dictCountOfTippers = [] * countOfTippers\n",
    "for tipper in range(0,dictLastKey):\n",
    "    dictCountOfTippers.append(totalPerTipper)   \n",
    "print(dictCountOfTippers)\n",
    "\n",
    "\n"
   ]
  },
  {
   "cell_type": "code",
   "execution_count": null,
   "id": "047f7112",
   "metadata": {},
   "outputs": [],
   "source": []
  }
 ],
 "metadata": {
  "kernelspec": {
   "display_name": "Python 3",
   "language": "python",
   "name": "python3"
  },
  "language_info": {
   "codemirror_mode": {
    "name": "ipython",
    "version": 3
   },
   "file_extension": ".py",
   "mimetype": "text/x-python",
   "name": "python",
   "nbconvert_exporter": "python",
   "pygments_lexer": "ipython3",
   "version": "3.8.8"
  }
 },
 "nbformat": 4,
 "nbformat_minor": 5
}
